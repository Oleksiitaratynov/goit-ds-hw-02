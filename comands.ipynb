{
 "cells": [
  {
   "cell_type": "code",
   "execution_count": 1,
   "metadata": {},
   "outputs": [],
   "source": [
    "import sqlite3\n",
    "\n",
    "# Підключення до бази даних\n",
    "conn = sqlite3.connect('hw2.sqlite')\n",
    "c = conn.cursor()"
   ]
  },
  {
   "cell_type": "code",
   "execution_count": 2,
   "metadata": {},
   "outputs": [
    {
     "name": "stdout",
     "output_type": "stream",
     "text": [
      "Завдання користувача 1:\n",
      "(4, 'Himself consumer machine account usually hour.', 'Most pretty arm growth. Item need good sign. What he clearly room. School peace five can traditional others.', 2, 1)\n",
      "(8, 'The now summer.', 'Less only their recent center threat miss actually. Medical movie mouth now.', 1, 1)\n"
     ]
    }
   ],
   "source": [
    "user_id = 1  # Змініть це значення на потрібне вам\n",
    "c.execute(\"SELECT * FROM tasks WHERE user_id = ?\", (user_id,))\n",
    "tasks = c.fetchall()\n",
    "print(f\"Завдання користувача {user_id}:\")\n",
    "for task in tasks:\n",
    "    print(task)"
   ]
  },
  {
   "cell_type": "code",
   "execution_count": 3,
   "metadata": {},
   "outputs": [
    {
     "name": "stdout",
     "output_type": "stream",
     "text": [
      "Завдання зі статусом 'new':\n",
      "(2, 'Involve upon network economy key your four.', 'Character sign young bar piece assume future yes. Present relate large buy remember garden think. Career argue hold type news.', 1, 2)\n",
      "(3, 'Personal together hold knowledge thing American.', 'Ahead daughter hit.', 1, 3)\n",
      "(7, 'Debate everyone your attorney buy song suffer.', 'Need forward green degree boy notice treatment. Office full heart order south air to. Win tree process then author mouth important.', 1, 4)\n",
      "(8, 'The now summer.', 'Less only their recent center threat miss actually. Medical movie mouth now.', 1, 1)\n"
     ]
    }
   ],
   "source": [
    "# Вибрати завдання за певним статусом\n",
    "status = 'new'  # Змініть це значення на потрібне вам\n",
    "c.execute(\"SELECT * FROM tasks WHERE status_id = (SELECT id FROM status WHERE name = ?)\", (status,))\n",
    "tasks = c.fetchall()\n",
    "print(f\"Завдання зі статусом '{status}':\")\n",
    "for task in tasks:\n",
    "    print(task)"
   ]
  },
  {
   "cell_type": "code",
   "execution_count": 4,
   "metadata": {},
   "outputs": [
    {
     "name": "stdout",
     "output_type": "stream",
     "text": [
      "Статус завдання 1 оновлено на 'in progress'\n"
     ]
    }
   ],
   "source": [
    "# Оновити статус конкретного завдання\n",
    "task_id = 1  # Змініть це значення на потрібне вам\n",
    "new_status = 'in progress'  # Змініть це значення на потрібне вам\n",
    "c.execute(\"UPDATE tasks SET status_id = (SELECT id FROM status WHERE name = ?) WHERE id = ?\", (new_status, task_id))\n",
    "conn.commit()\n",
    "print(f\"Статус завдання {task_id} оновлено на '{new_status}'\")"
   ]
  },
  {
   "cell_type": "code",
   "execution_count": 9,
   "metadata": {},
   "outputs": [
    {
     "name": "stdout",
     "output_type": "stream",
     "text": [
      "Користувачі без завдань:\n"
     ]
    }
   ],
   "source": [
    "# Отримати список користувачів, які не мають жодного завдання\n",
    "c.execute(\"SELECT * FROM users WHERE id NOT IN (SELECT DISTINCT user_id FROM tasks)\")\n",
    "users = c.fetchall()\n",
    "print(\"Користувачі без завдань:\")\n",
    "for user in users:\n",
    "    print(user)"
   ]
  },
  {
   "cell_type": "code",
   "execution_count": 5,
   "metadata": {},
   "outputs": [
    {
     "name": "stdout",
     "output_type": "stream",
     "text": [
      "Додано нове завдання для користувача 1\n"
     ]
    }
   ],
   "source": [
    "# Додати нове завдання для конкретного користувача\n",
    "user_id = 1  # Змініть це значення на потрібне вам\n",
    "title = 'Нове завдання'  # Змініть це значення на потрібне вам\n",
    "description = 'Опис нового завдання'  # Змініть це значення на потрібне вам\n",
    "status_id = 1  # Змініть це значення на потрібне вам\n",
    "c.execute(\"INSERT INTO tasks (title, description, status_id, user_id) VALUES (?, ?, ?, ?)\", (title, description, status_id, user_id))\n",
    "conn.commit()\n",
    "print(f\"Додано нове завдання для користувача {user_id}\")"
   ]
  },
  {
   "cell_type": "code",
   "execution_count": 7,
   "metadata": {},
   "outputs": [
    {
     "name": "stdout",
     "output_type": "stream",
     "text": [
      "Незавершені завдання:\n",
      "(1, 'Discover direction board personal tell.', 'Organization quickly either hour herself down cover collection. Military strong project interview dinner follow person reason. Nor near glass strong.', 2, 2)\n",
      "(2, 'Involve upon network economy key your four.', 'Character sign young bar piece assume future yes. Present relate large buy remember garden think. Career argue hold type news.', 1, 2)\n",
      "(3, 'Personal together hold knowledge thing American.', 'Ahead daughter hit.', 1, 3)\n",
      "(4, 'Himself consumer machine account usually hour.', 'Most pretty arm growth. Item need good sign. What he clearly room. School peace five can traditional others.', 2, 1)\n",
      "(6, 'Movement base unit police glass.', 'Think daughter important arrive issue accept agent ever. Despite need move. Control best step because fish.', 2, 3)\n",
      "(7, 'Debate everyone your attorney buy song suffer.', 'Need forward green degree boy notice treatment. Office full heart order south air to. Win tree process then author mouth important.', 1, 4)\n",
      "(8, 'The now summer.', 'Less only their recent center threat miss actually. Medical movie mouth now.', 1, 1)\n",
      "(9, 'Three city language stop.', 'Military health seven tree. Able middle civil arm figure foot.', 2, 5)\n",
      "(10, 'Right a Democrat receive.', 'Single fall boy father. Strategy of age herself.', 2, 6)\n",
      "(13, 'Нове завдання', 'Опис нового завдання', 1, 1)\n"
     ]
    }
   ],
   "source": [
    "# Отримати всі завдання, які ще не завершено\n",
    "c.execute(\"SELECT * FROM tasks WHERE status_id != (SELECT id FROM status WHERE name = 'completed')\")\n",
    "tasks = c.fetchall()\n",
    "print(\"Незавершені завдання:\")\n",
    "for task in tasks:\n",
    "    print(task)"
   ]
  },
  {
   "cell_type": "code",
   "execution_count": 8,
   "metadata": {},
   "outputs": [
    {
     "name": "stdout",
     "output_type": "stream",
     "text": [
      "Завдання 1 видалено\n"
     ]
    }
   ],
   "source": [
    "# Видалити конкретне завдання\n",
    "task_id = 1  # Змініть це значення на потрібне вам\n",
    "c.execute(\"DELETE FROM tasks WHERE id = ?\", (task_id,))\n",
    "conn.commit()\n",
    "print(f\"Завдання {task_id} видалено\")"
   ]
  },
  {
   "cell_type": "code",
   "execution_count": 10,
   "metadata": {},
   "outputs": [
    {
     "name": "stdout",
     "output_type": "stream",
     "text": [
      "Користувачі з електронною поштою, що відповідає шаблону '%@example.com':\n",
      "(1, 'Frank Campbell', 'patricia46@example.com')\n",
      "(2, 'Alexander Wise', 'stephaniearnold@example.com')\n",
      "(5, 'Keith Gilbert', 'glassstanley@example.com')\n"
     ]
    }
   ],
   "source": [
    "# Знайти користувачів з певною електронною поштою\n",
    "email_pattern = '%@example.com'  # Змініть це значення на потрібне вам\n",
    "c.execute(\"SELECT * FROM users WHERE email LIKE ?\", (email_pattern,))\n",
    "users = c.fetchall()\n",
    "print(f\"Користувачі з електронною поштою, що відповідає шаблону '{email_pattern}':\")\n",
    "for user in users:\n",
    "    print(user)"
   ]
  },
  {
   "cell_type": "code",
   "execution_count": 12,
   "metadata": {},
   "outputs": [
    {
     "name": "stdout",
     "output_type": "stream",
     "text": [
      "Ім'я користувача 1 оновлено на 'Нове ім_я'\n"
     ]
    }
   ],
   "source": [
    "# Оновити ім'я користувача\n",
    "user_id = 1  # Змініть це значення на потрібне вам\n",
    "new_name = 'Нове ім_я'  # Змініть це значення на потрібне вам\n",
    "c.execute(\"UPDATE users SET fullname = ? WHERE id = ?\", (new_name, user_id))\n",
    "conn.commit()\n",
    "print(f\"Ім'я користувача {user_id} оновлено на '{new_name}'\")"
   ]
  },
  {
   "cell_type": "code",
   "execution_count": 13,
   "metadata": {},
   "outputs": [
    {
     "name": "stdout",
     "output_type": "stream",
     "text": [
      "Кількість завдань для кожного статусу:\n",
      "('completed', 3)\n",
      "('in progress', 4)\n",
      "('new', 5)\n"
     ]
    }
   ],
   "source": [
    "# Отримати кількість завдань для кожного статусу\n",
    "c.execute(\"SELECT status.name, COUNT(tasks.id) FROM tasks JOIN status ON tasks.status_id = status.id GROUP BY status.name\")\n",
    "status_counts = c.fetchall()\n",
    "print(\"Кількість завдань для кожного статусу:\")\n",
    "for status_count in status_counts:\n",
    "    print(status_count)"
   ]
  },
  {
   "cell_type": "code",
   "execution_count": 14,
   "metadata": {},
   "outputs": [
    {
     "name": "stdout",
     "output_type": "stream",
     "text": [
      "Завдання, призначені користувачам з доменом '%@example.com':\n",
      "(2, 'Involve upon network economy key your four.', 'Character sign young bar piece assume future yes. Present relate large buy remember garden think. Career argue hold type news.', 1, 2)\n",
      "(4, 'Himself consumer machine account usually hour.', 'Most pretty arm growth. Item need good sign. What he clearly room. School peace five can traditional others.', 2, 1)\n",
      "(5, 'Conference notice evidence take group.', 'Tonight cost those identify collection. Bill kind late themselves they bar. Drive home increase.', 3, 2)\n",
      "(8, 'The now summer.', 'Less only their recent center threat miss actually. Medical movie mouth now.', 1, 1)\n",
      "(9, 'Three city language stop.', 'Military health seven tree. Able middle civil arm figure foot.', 2, 5)\n",
      "(13, 'Нове завдання', 'Опис нового завдання', 1, 1)\n"
     ]
    }
   ],
   "source": [
    "# Отримати завдання, які призначені користувачам з певною доменною частиною електронної пошти\n",
    "domain = '%@example.com'  # Змініть це значення на потрібне вам\n",
    "c.execute(\"SELECT tasks.* FROM tasks JOIN users ON tasks.user_id = users.id WHERE users.email LIKE ?\", (domain,))\n",
    "tasks = c.fetchall()\n",
    "print(f\"Завдання, призначені користувачам з доменом '{domain}':\")\n",
    "for task in tasks:\n",
    "    print(task)"
   ]
  },
  {
   "cell_type": "code",
   "execution_count": 15,
   "metadata": {},
   "outputs": [
    {
     "name": "stdout",
     "output_type": "stream",
     "text": [
      "Завдання без опису:\n"
     ]
    }
   ],
   "source": [
    "# Отримати список завдань, що не мають опису\n",
    "c.execute(\"SELECT * FROM tasks WHERE description IS NULL OR description = ''\")\n",
    "tasks = c.fetchall()\n",
    "print(\"Завдання без опису:\")\n",
    "for task in tasks:\n",
    "    print(task)"
   ]
  },
  {
   "cell_type": "code",
   "execution_count": 16,
   "metadata": {},
   "outputs": [
    {
     "name": "stdout",
     "output_type": "stream",
     "text": [
      "Користувачі та їхні завдання, які є у статусі 'in progress':\n",
      "(1, 'Нове ім_я', 'patricia46@example.com', 4, 'Himself consumer machine account usually hour.', 'Most pretty arm growth. Item need good sign. What he clearly room. School peace five can traditional others.', 2, 1)\n",
      "(3, 'Kevin Martin', 'wellsmichael@example.net', 6, 'Movement base unit police glass.', 'Think daughter important arrive issue accept agent ever. Despite need move. Control best step because fish.', 2, 3)\n",
      "(5, 'Keith Gilbert', 'glassstanley@example.com', 9, 'Three city language stop.', 'Military health seven tree. Able middle civil arm figure foot.', 2, 5)\n",
      "(6, 'Melvin Chandler', 'abigailjoyce@example.net', 10, 'Right a Democrat receive.', 'Single fall boy father. Strategy of age herself.', 2, 6)\n"
     ]
    }
   ],
   "source": [
    "# Вибрати користувачів та їхні завдання, які є у статусі 'in progress'\n",
    "c.execute(\"SELECT users.*, tasks.* FROM users JOIN tasks ON users.id = tasks.user_id WHERE tasks.status_id = (SELECT id FROM status WHERE name = 'in progress')\")\n",
    "users_tasks = c.fetchall()\n",
    "print(\"Користувачі та їхні завдання, які є у статусі 'in progress':\")\n",
    "for user_task in users_tasks:\n",
    "    print(user_task)"
   ]
  },
  {
   "cell_type": "code",
   "execution_count": 17,
   "metadata": {},
   "outputs": [
    {
     "name": "stdout",
     "output_type": "stream",
     "text": [
      "Користувачі та кількість їхніх завдань:\n",
      "(1, 'Нове ім_я', 'patricia46@example.com', 3)\n",
      "(2, 'Alexander Wise', 'stephaniearnold@example.com', 2)\n",
      "(3, 'Kevin Martin', 'wellsmichael@example.net', 2)\n",
      "(4, 'Joseph Gray', 'ogomez@example.org', 1)\n",
      "(5, 'Keith Gilbert', 'glassstanley@example.com', 1)\n",
      "(6, 'Melvin Chandler', 'abigailjoyce@example.net', 3)\n"
     ]
    }
   ],
   "source": [
    "# Отримати користувачів та кількість їхніх завдань\n",
    "c.execute(\"SELECT users.*, COUNT(tasks.id) FROM users LEFT JOIN tasks ON users.id = tasks.user_id GROUP BY users.id\")\n",
    "users_task_counts = c.fetchall()\n",
    "print(\"Користувачі та кількість їхніх завдань:\")\n",
    "for user_task_count in users_task_counts:\n",
    "    print(user_task_count)"
   ]
  },
  {
   "cell_type": "code",
   "execution_count": 18,
   "metadata": {},
   "outputs": [],
   "source": [
    "# Закриття з'єднання з базою даних\n",
    "conn.close()"
   ]
  }
 ],
 "metadata": {
  "kernelspec": {
   "display_name": "venv",
   "language": "python",
   "name": "python3"
  },
  "language_info": {
   "codemirror_mode": {
    "name": "ipython",
    "version": 3
   },
   "file_extension": ".py",
   "mimetype": "text/x-python",
   "name": "python",
   "nbconvert_exporter": "python",
   "pygments_lexer": "ipython3",
   "version": "3.12.1"
  }
 },
 "nbformat": 4,
 "nbformat_minor": 2
}
